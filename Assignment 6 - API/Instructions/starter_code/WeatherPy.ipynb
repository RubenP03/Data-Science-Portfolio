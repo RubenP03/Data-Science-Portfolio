{
 "cells": [
  {
   "cell_type": "code",
   "execution_count": null,
   "metadata": {
    "scrolled": true
   },
   "outputs": [],
   "source": [
    "# Dependencies and Setup\n",
    "import matplotlib.pyplot as plt\n",
    "import pandas as pd\n",
    "import numpy as np\n",
    "import requests\n",
    "import time\n",
    "import json\n",
    "import random\n",
    "# import openweathermap as owm\n",
    "import progressbar\n",
    "\n",
    "\n",
    "\n",
    "# Import API key\n",
    "import api_keys\n",
    "from api_keys import api_key\n",
    "\n",
    "# Incorporated citipy to determine city based on latitude and longitude\n",
    "from citipy import citipy\n",
    "\n",
    "# Output File (CSV)\n",
    "output_data_file = \"output_data/cities.csv\"\n",
    "\n",
    "# Range of latitudes and longitudes\n",
    "lat_range = (-90, 90)\n",
    "lng_range = (-180, 180)"
   ]
  },
  {
   "cell_type": "markdown",
   "metadata": {},
   "source": [
    "## Generate Cities List"
   ]
  },
  {
   "cell_type": "code",
   "execution_count": null,
   "metadata": {},
   "outputs": [],
   "source": [
    "# List for holding lat_lngs and cities\n",
    "lat_lng = []\n",
    "cities = []\n",
    "\n",
    "# Create a set of random lat and lng combinations\n",
    "lats = np.random.uniform(low=-90.000, high=90.000, size=1500)\n",
    "lngs = np.random.uniform(low=-180.000, high=180.000, size=1500)\n",
    "lat_lngs = zip(lats, lngs)\n",
    "\n",
    "# Identify nearest city for each lat, lng combination\n",
    "for lat_lng in lat_lngs:\n",
    "    city = citipy.nearest_city(lat_lng[0], lat_lng[1]).city_name\n",
    "    \n",
    "    # If the city is unique, then add it to a our cities list\n",
    "    if city not in cities:\n",
    "        cities.append(city)\n",
    "\n",
    "# Print the city count to confirm sufficient count\n",
    "len(cities)\n"
   ]
  },
  {
   "cell_type": "code",
   "execution_count": null,
   "metadata": {},
   "outputs": [],
   "source": [
    "# get list of cities\n",
    "for i in range(len(lats)):\n",
    "        city = citipy.nearest_city(lats[i], lngs[i])\n",
    "        cities.append(city.city_name)\n",
    "\n",
    "# remove duplicates\n",
    "print('Before: ' + str(len(cities)))\n",
    "before = len(cities)\n",
    "cities = list(set(cities))\n",
    "print('After: ' + str(len(cities)))\n",
    "after = len(cities)\n",
    "print('Removed ' + str(before - after) + ' duplicates')\n",
    "\n",
    "print(str(len(cities)) + ' unique cities found!')"
   ]
  },
  {
   "cell_type": "markdown",
   "metadata": {},
   "source": [
    "## Perform API Calls"
   ]
  },
  {
   "cell_type": "code",
   "execution_count": null,
   "metadata": {},
   "outputs": [],
   "source": [
    "print(cities)"
   ]
  },
  {
   "cell_type": "code",
   "execution_count": null,
   "metadata": {},
   "outputs": [],
   "source": [
    "# OpenWeatherMap API Key\n",
    "api_key = api_keys.api_key\n",
    "\n",
    "# Starting URL for Weather Map API Call\n",
    "url = \"http://api.openweathermap.org/data/2.5/weather?units=Imperial&APPID=\" + api_key + \"&q=\"+ cities[0]\n",
    "print(url)"
   ]
  },
  {
   "cell_type": "code",
   "execution_count": null,
   "metadata": {},
   "outputs": [],
   "source": [
    "temps = []\n",
    "humidity = []\n",
    "clouds = []\n",
    "wind = []\n",
    "city_lat = []\n",
    "city_lng = []\n",
    "completed_cities = []"
   ]
  },
  {
   "cell_type": "code",
   "execution_count": null,
   "metadata": {},
   "outputs": [],
   "source": [
    "# create empty dataframe for city and weather info\n",
    "column_names = ('City Name', 'Country Code', 'Latitude', 'Longitude','Temp (F)',\n",
    "            'Humidity (%)','Cloudiness (%)','Wind Speed (mph)')\n",
    "cities_df = pd.DataFrame(columns = column_names)\n",
    "cities_df"
   ]
  },
  {
   "cell_type": "code",
   "execution_count": null,
   "metadata": {},
   "outputs": [],
   "source": [
    "# initalize progress bar\n",
    "bar = progressbar.ProgressBar()\n",
    "\n",
    "while(len(temps) < 500 or len(humidity) < 500 or len(clouds) < 500 or len(wind) < 500 or len(city_lat) < 500):\n",
    "    # set error count\n",
    "    count = 0\n",
    "\n",
    "    # get city weather data\n",
    "    time.sleep(0.02)\n",
    "    city = cities[0]\n",
    "    url = \"http://api.openweathermap.org/data/2.5/weather?\"\n",
    "    print('Working on city: ' + city)\n",
    "    try:\n",
    "        # Build query URL\n",
    "        query_url = url + \"appid=\" + open_weather_key + \"&q=\" + city + '&units=imperial'\n",
    "        print(' - ' + query_url)\n",
    "        test = req.get(query_url).json()\n",
    "\n",
    "        temps.append(test['main']['temp'])\n",
    "        humidity.append(test['main']['humidity'])\n",
    "        clouds.append(test['clouds']['all'])\n",
    "        wind.append(test['wind']['speed'])\n",
    "        city_lat.append(test['coord']['lat'])\n",
    "        city_lng.append(test['coord']['lon'])\n",
    "        completed_cities.append(city)\n",
    "    except:\n",
    "            count += 1\n",
    "\n",
    "    print('No data found for ' + str(count) + ' cities')\n",
    "\n",
    "    #if(len(temps) < 500 or len(humidity) < 500 or len(clouds) < 500 or len(wind) < 500 or len(city_lat) < 500):\n",
    "     #   print('Not enough data. Running script again.')"
   ]
  },
  {
   "cell_type": "code",
   "execution_count": null,
   "metadata": {},
   "outputs": [],
   "source": []
  },
  {
   "cell_type": "code",
   "execution_count": null,
   "metadata": {},
   "outputs": [],
   "source": []
  },
  {
   "cell_type": "code",
   "execution_count": null,
   "metadata": {},
   "outputs": [],
   "source": []
  }
 ],
 "metadata": {
  "anaconda-cloud": {},
  "kernelspec": {
   "display_name": "Python 3",
   "language": "python",
   "name": "python3"
  },
  "language_info": {
   "codemirror_mode": {
    "name": "ipython",
    "version": 3
   },
   "file_extension": ".py",
   "mimetype": "text/x-python",
   "name": "python",
   "nbconvert_exporter": "python",
   "pygments_lexer": "ipython3",
   "version": "3.6.5"
  }
 },
 "nbformat": 4,
 "nbformat_minor": 1
}
