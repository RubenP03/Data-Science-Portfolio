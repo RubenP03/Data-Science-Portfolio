{
 "cells": [
  {
   "cell_type": "code",
   "execution_count": null,
   "metadata": {
    "scrolled": true
   },
   "outputs": [],
   "source": [
    "# Dependencies and Setup\n",
    "import matplotlib.pyplot as plt\n",
    "import pandas as pd\n",
    "import numpy as np\n",
    "import requests\n",
    "import time\n",
    "import json\n",
    "import random\n",
    "# import openweathermap as owm\n",
    "import progressbar\n",
    "\n",
    "\n",
    "\n",
    "# Import API key\n",
    "import api_keys\n",
    "from api_keys import api_key\n",
    "\n",
    "# Incorporated citipy to determine city based on latitude and longitude\n",
    "from citipy import citipy\n",
    "\n",
    "# Output File (CSV)\n",
    "output_data_file = \"output_data/cities.csv\"\n",
    "\n",
    "# Range of latitudes and longitudes\n",
    "lat_range = (-90, 90)\n",
    "lng_range = (-180, 180)"
   ]
  },
  {
   "cell_type": "markdown",
   "metadata": {},
   "source": [
    "## Generate Cities List"
   ]
  },
  {
   "cell_type": "code",
   "execution_count": null,
   "metadata": {},
   "outputs": [],
   "source": [
    "# List for holding lat_lngs and cities\n",
    "lat_lng = []\n",
    "cities = []\n",
    "\n",
    "# Create a set of random lat and lng combinations\n",
    "lats = np.random.uniform(low=-90.000, high=90.000, size=1500)\n",
    "lngs = np.random.uniform(low=-180.000, high=180.000, size=1500)\n",
    "lat_lngs = zip(lats, lngs)\n",
    "\n",
    "# Identify nearest city for each lat, lng combination\n",
    "for lat_lng in lat_lngs:\n",
    "    city = citipy.nearest_city(lat_lng[0], lat_lng[1]).city_name\n",
    "    \n",
    "    # If the city is unique, then add it to a our cities list\n",
    "    if city not in cities:\n",
    "        cities.append(city)\n",
    "\n",
    "# Print the city count to confirm sufficient count\n",
    "len(cities)\n"
   ]
  },
  {
   "cell_type": "code",
   "execution_count": null,
   "metadata": {},
   "outputs": [],
   "source": [
    "# get list of cities\n",
    "for i in range(len(lats)):\n",
    "        city = citipy.nearest_city(lats[i], lngs[i])\n",
    "        cities.append(city.city_name)\n",
    "\n",
    "# remove duplicates\n",
    "print('Before: ' + str(len(cities)))\n",
    "before = len(cities)\n",
    "cities = list(set(cities))\n",
    "print('After: ' + str(len(cities)))\n",
    "after = len(cities)\n",
    "print('Removed ' + str(before - after) + ' duplicates')\n",
    "\n",
    "print(str(len(cities)) + ' unique cities found!')"
   ]
  },
  {
   "cell_type": "markdown",
   "metadata": {},
   "source": [
    "## Perform API Calls"
   ]
  },
  {
   "cell_type": "code",
   "execution_count": 20,
   "metadata": {},
   "outputs": [
    {
     "name": "stdout",
     "output_type": "stream",
     "text": [
      "['besikduzu', 'namibe', 'aden', 'ulaangom', 'karkaralinsk', 'tabuk', 'el colomo', 'moose factory', 'castro', 'kondinskoye', 'maloshuyka', 'mackay', 'mildura', 'sembe', 'brokopondo', 'kodiak', 'ancud', 'siguiri', 'weligama', 'dongsheng', 'lokosovo', 'narsaq', 'coihaique', 'margate', 'hilo', 'tecoanapa', 'lakes entrance', 'batagay-alyta', 'maryborough', 'avarua', 'vanimo', 'hammerfest', 'sakakah', 'tecpan', 'shenjiamen', 'bennington', 'aksarka', 'ust-kuyga', 'batemans bay', 'soe', 'mobaye', 'lagoa', 'sitka', 'grindavik', 'acuna', 'gamboula', 'visby', 'brufut', 'tabiauea', 'port hardy', 'kununurra', 'stepnyak', 'fuerte olimpo', 'ginda', 'arraial do cabo', 'hobart', 'bethel', 'channel-port aux basques', 'yumen', 'eregli', 'talaya', 'havoysund', 'buchanan', 'mount isa', 'diebougou', 'cockburn town', 'lata', 'obigarm', 'shubarkuduk', 'okhotsk', 'santiago del estero', 'bangkalan', 'erzurum', 'yellowknife', 'manono', 'sidmouth', 'chisec', 'bereda', 'san francisco del mar', 'tir pol', 'high level', 'ambon', 'klaksvik', 'livramento', 'kuching', 'porto novo', 'hihifo', 'livingstonia', 'constantine', 'lorengau', 'puqi', 'japura', 'belushya guba', 'casas grandes', 'saint george', 'cantu', 'sulangan', 'pozhva', 'tumannyy', 'tabou', 'pingliang', 'samusu', 'cabedelo', 'pennsville', 'ushuaia', 'price', 'uchaly', 'berlevag', 'vangaindrano', 'mujiayingzi', 'nikolskoye', 'abha', 'costa mesa', 'alyangula', 'naze', 'mata', 'melivoia', 'mayo', 'faanui', 'kokopo', 'tasiilaq', 'caconda', 'yar-sale', 'thinadhoo', 'navrongo', 'rawannawi', 'mataura', 'amderma', 'kirakira', 'karakendzha', 'nazareno etla', 'tarudant', 'poso', 'igrim', 'chuy', 'alingsas', 'anito', 'tuktoyaktuk', 'shimoda', 'zhigansk', 'taoudenni', 'sinesti', 'fuling', 'ornskoldsvik', 'portland', 'college', 'abrego', 'sistranda', 'alakurtti', 'vestmannaeyjar', 'richards bay', 'mareeba', 'teseney', 'warmbad', 'muli', 'ribeira grande', 'cherskiy', 'neftegorsk', 'alzamay', 'georgetown', 'yingcheng', 'alihe', 'namwala', 'mayor pablo lagerenza', 'saleaula', 'kharan', 'bentiu', 'hobyo', 'zaysan', 'tezu', 'qinzhou', 'acapulco', 'inirida', 'severo-kurilsk', 'rawson', 'kloulklubed', 'butaritari', 'mandera', 'vardo', 'opuwo', 'port said', 'hami', 'saint-philippe', 'kieta', 'burgeo', 'bluff', 'estrela', 'plettenberg bay', 'winona', 'vaini', 'lyubeshiv', 'barrow', 'vila velha', 'khoy', 'pitimbu', 'tiksi', 'daytona beach', 'valdemarpils', 'zapolyarnyy', 'kaeo', 'sterling', 'lwowek slaski', 'zhengjiatun', 'yeppoon', 'vilhena', 'kabo', 'gusevskiy', 'broome', 'dunedin', 'ntchisi', 'lorvao', 'ulverstone', 'shangrao', 'torbay', 'palm beach', 'palana', 'kampene', 'tambo grande', 'biak', 'tazovskiy', 'kaitangata', 'ostrovnoy', 'mlonggo', 'takoradi', 'bandarbeyla', 'calama', 'gat', 'melito di porto salvo', 'merke', 'isangel', 'usinsk', 'marawi', 'atherton', 'gondar', 'hirara', 'rundu', 'beringovskiy', 'cayenne', 'bathsheba', 'mar del plata', 'caravelas', 'goure', 'nacunday', 'santa eulalia del rio', 'qeshm', 'eureka', 'westport', 'chapais', 'matara', 'la orilla', 'puerto ayora', 'mancora', 'grand centre', 'eyl', 'grand gaube', 'kudat', 'grand river south east', 'asfi', 'ambulu', 'deputatskiy', 'hasaki', 'christchurch', 'savona', 'pujili', 'shakawe', 'abalak', 'esperance', 'barra patuca', 'prince rupert', 'negombo', 'mahebourg', 'outram', 'carnarvon', 'nantucket', 'pringsewu', 'dayong', 'karratha', 'sovetskaya gavan', 'maningrida', 'whitehorse', 'komsomolskiy', 'pevek', 'upernavik', 'qaanaaq', 'hambantota', 'oktyabrskiy', 'khuzhir', 'bone', 'pisco', 'inderborskiy', 'tsihombe', 'muroto', 'taksimo', 'saryozek', 'port lincoln', 'paamiut', 'uruzgan', 'mount gambier', 'muros', 'gobabis', 'george town', 'lugovskiy', 'vila do maio', 'nizhneyansk', 'salta', 'anadyr', 'codrington', 'provideniya', 'griffith', 'mogadishu', 'rapid valley', 'moron', 'belaya gora', 'port hedland', 'ponta delgada', 'port alfred', 'mortka', 'sisimiut', 'nova olinda do norte', 'chokurdakh', 'mana', 'kibala', 'anloga', 'hermanus', 'colac', 'buta', 'piacabucu', 'redmond', 'souillac', 'bolshoye nagatkino', 'nanortalik', 'bambanglipuro', 'egvekinot', 'bengkulu', 'fare', 'haines junction', 'ridgecrest', 'bonavista', 'hanstholm', 'guerrero negro', 'banda aceh', 'olga', 'bonthe', 'coahuayana', 'santa isabel do rio negro', 'newcastle', 'galle', 'leh', 'houma', 'svetlyy', 'daura', 'lom sak', 'mys shmidta', 'labuhan', 'lompoc', 'hamilton', 'dongkan', 'ye', 'itoman', 'zhangye', 'turukhansk', 'pogranichnyy', 'lithgow', 'bambous virieux', 'saint anthony', 'constitucion', 'abu jubayhah', 'wuhan', 'karagaylinskiy', 'bondo', 'sur', 'princeton', 'chicama', 'longyearbyen', 'hun', 'karaul', 'sal rei', 'kahului', 'tarumovka', 'cabo san lucas', 'paramonga', 'cidreira', 'saint-augustin', 'pozo colorado', 'saskylakh', 'jinchang', 'nambucca heads', 'bolshiye berezniki', 'tura', 'faya', 'baie-comeau', 'iqaluit', 'ust-charyshskaya pristan', 'chenzhou', 'jamestown', 'sao filipe', 'realeza', 'gongzhuling', 'stamsund', 'tommot', 'garissa', 'gurgan', 'neryungri', 'ahipara', 'suzhou', 'skibbereen', 'tubuala', 'batagay', 'hualmay', 'olafsvik', 'falealupo', 'kapaa', 'tahe', 'asayita', 'victoria', 'marcona', 'kazalinsk', 'sioux lookout', 'kumo', 'trinidad', 'kutum', 'elban', 'oranjemund', 'meulaboh', 'santarem', 'tateyama', 'dawei', 'jacareacanga', 'morant bay', 'alice springs', 'hofn', 'rungata', 'geraldton', 'okha', 'the valley', 'cooma', 'nouadhibou', 'tromso', 'kampot', 'charters towers', 'bredasdorp', 'cairns', 'busselton', 'omboue', 'tukrah', 'alekseyevsk', 'mkuranga', 'talnakh', 'roebourne', 'katsuura', 'nizhniy ingash', 'carroll', 'quatre cocos', 'ginir', 'sauce', 'yunyang', 'pointe michel', 'port macquarie', 'new norfolk', 'port-gentil', 'sorland', 'byron bay', 'hithadhoo', 'englewood', 'betong', 'pointe-noire', 'hendrina', 'chumikan', 'viedma', 'bay roberts', 'san jose', 'ozernovskiy', 'aklavik', 'patti', 'nome', 'odweyne', 'palabuhanratu', 'lysyanka', 'yulara', 'birjand', 'kemijarvi', 'luwuk', 'solsvik', 'auki', 'hunchun', 'gushikawa', 'vila franca do campo', 'saint-louis', 'owando', 'verkhnyaya inta', 'belmonte', 'tiarei', 'kavaratti', 'khatanga', 'saldanha', 'soma', 'mattru', 'punta arenas', 'harper', 'pangnirtung', 'tidore', 'tahta', 'manicore', 'necochea', 'springbok', 'san ramon', 'lebu', 'nguiu', 'bowen', 'albany', 'nara', 'te anau', 'atuona', 'airai', 'urumqi', 'rikitea', 'vaitupu', 'stornoway', 'alofi', 'nioro', 'arman', 'killybegs', 'port augusta', 'winneba', 'mme', 'baoqing', 'kutoarjo', 'longlac', 'taolanaro', 'severo-yeniseyskiy', 'carutapera', 'rincon', 'half moon bay', 'bizhbulyak', 'east london', 'dikson', 'sola', 'illoqqortoormiut', 'ituni', 'port elizabeth', 'luderitz', 'camacupa', 'attawapiskat', 'ust-tsilma', 'zhezkazgan', 'teknaf', 'santa fe', 'port moresby', 'clyde river', 'altay', 'umzimvubu', 'neya', 'mokhsogollokh', 'kavieng', 'cape town', 'hokitika', 'brandfort', 'walvis bay', 'tecolutla', 'pafos', 'jega', 'manzhouli', 'arlit', 'filingue', 'thompson', 'srednekolymsk', 'vao', 'callaguip', 'otradnoye', 'melfort', 'sao joao da barra', 'wenling', 'sibu', 'tuatapere', 'ariquemes', 'barentsburg', 'rocha', 'wawa', 'surt', 'kruisfontein', 'sukumo', 'lavrentiya', 'khonuu', 'ostersund', 'beloha', 'ilulissat', 'akim swedru', 'ormara', 'toda bhim', 'ponta do sol', 'bubaque', 'padang', 'saint-joseph', 'fortuna', 'goderich', 'manama', 'leonidovo', 'moerai', 'burica', 'sobolevo', 'san cristobal', 'comodoro rivadavia', 'hameenlinna', 'timizart', 'girua', 'kaspiyskiy', 'san quintin']\n"
     ]
    }
   ],
   "source": [
    "print(cities)"
   ]
  },
  {
   "cell_type": "code",
   "execution_count": 21,
   "metadata": {},
   "outputs": [
    {
     "name": "stdout",
     "output_type": "stream",
     "text": [
      "http://api.openweathermap.org/data/2.5/weather?units=Imperial&APPID=9f36965b90e24f25d728cb6f090b4c87&q=besikduzu\n"
     ]
    }
   ],
   "source": [
    "# OpenWeatherMap API Key\n",
    "api_key = api_keys.api_key\n",
    "\n",
    "# Starting URL for Weather Map API Call\n",
    "url = \"http://api.openweathermap.org/data/2.5/weather?units=Imperial&APPID=\" + api_key + \"&q=\"+ cities[0]\n",
    "print(url)"
   ]
  },
  {
   "cell_type": "code",
   "execution_count": 22,
   "metadata": {},
   "outputs": [],
   "source": [
    "temps = []\n",
    "humidity = []\n",
    "clouds = []\n",
    "wind = []\n",
    "city_lat = []\n",
    "city_lng = []\n",
    "completed_cities = []"
   ]
  },
  {
   "cell_type": "code",
   "execution_count": 23,
   "metadata": {},
   "outputs": [
    {
     "data": {
      "text/html": [
       "<div>\n",
       "<style scoped>\n",
       "    .dataframe tbody tr th:only-of-type {\n",
       "        vertical-align: middle;\n",
       "    }\n",
       "\n",
       "    .dataframe tbody tr th {\n",
       "        vertical-align: top;\n",
       "    }\n",
       "\n",
       "    .dataframe thead th {\n",
       "        text-align: right;\n",
       "    }\n",
       "</style>\n",
       "<table border=\"1\" class=\"dataframe\">\n",
       "  <thead>\n",
       "    <tr style=\"text-align: right;\">\n",
       "      <th></th>\n",
       "      <th>City Name</th>\n",
       "      <th>Country Code</th>\n",
       "      <th>Latitude</th>\n",
       "      <th>Longitude</th>\n",
       "      <th>Temp (F)</th>\n",
       "      <th>Humidity (%)</th>\n",
       "      <th>Cloudiness (%)</th>\n",
       "      <th>Wind Speed (mph)</th>\n",
       "    </tr>\n",
       "  </thead>\n",
       "  <tbody>\n",
       "  </tbody>\n",
       "</table>\n",
       "</div>"
      ],
      "text/plain": [
       "Empty DataFrame\n",
       "Columns: [City Name, Country Code, Latitude, Longitude, Temp (F), Humidity (%), Cloudiness (%), Wind Speed (mph)]\n",
       "Index: []"
      ]
     },
     "execution_count": 23,
     "metadata": {},
     "output_type": "execute_result"
    }
   ],
   "source": [
    "# create empty dataframe for city and weather info\n",
    "column_names = ('City Name', 'Country Code', 'Latitude', 'Longitude','Temp (F)',\n",
    "            'Humidity (%)','Cloudiness (%)','Wind Speed (mph)')\n",
    "cities_df = pd.DataFrame(columns = column_names)\n",
    "cities_df"
   ]
  },
  {
   "cell_type": "code",
   "execution_count": null,
   "metadata": {},
   "outputs": [],
   "source": [
    "# initalize progress bar\n",
    "bar = progressbar.ProgressBar()\n",
    "\n",
    "while(len(temps) < 500 or len(humidity) < 500 or len(clouds) < 500 or len(wind) < 500 or len(city_lat) < 500):\n",
    "    # set error count\n",
    "    count = 0\n",
    "\n",
    "    # get city weather data\n",
    "    time.sleep(0.02)\n",
    "    city = cities[0]\n",
    "    url = \"http://api.openweathermap.org/data/2.5/weather?\"\n",
    "    print('Working on city: ' + city)\n",
    "    try:\n",
    "        # Build query URL\n",
    "        query_url = url + \"appid=\" + open_weather_key + \"&q=\" + city + '&units=imperial'\n",
    "        print(' - ' + query_url)\n",
    "        test = req.get(query_url).json()\n",
    "\n",
    "        temps.append(test['main']['temp'])\n",
    "        humidity.append(test['main']['humidity'])\n",
    "        clouds.append(test['clouds']['all'])\n",
    "        wind.append(test['wind']['speed'])\n",
    "        city_lat.append(test['coord']['lat'])\n",
    "        city_lng.append(test['coord']['lon'])\n",
    "        completed_cities.append(city)\n",
    "    except:\n",
    "            count += 1\n",
    "\n",
    "    print('No data found for ' + str(count) + ' cities')\n",
    "\n",
    "    #if(len(temps) < 500 or len(humidity) < 500 or len(clouds) < 500 or len(wind) < 500 or len(city_lat) < 500):\n",
    "     #   print('Not enough data. Running script again.')"
   ]
  },
  {
   "cell_type": "code",
   "execution_count": null,
   "metadata": {},
   "outputs": [],
   "source": []
  },
  {
   "cell_type": "code",
   "execution_count": null,
   "metadata": {},
   "outputs": [],
   "source": []
  },
  {
   "cell_type": "code",
   "execution_count": null,
   "metadata": {},
   "outputs": [],
   "source": []
  }
 ],
 "metadata": {
  "anaconda-cloud": {},
  "kernelspec": {
   "display_name": "Python 3",
   "language": "python",
   "name": "python3"
  },
  "language_info": {
   "codemirror_mode": {
    "name": "ipython",
    "version": 3
   },
   "file_extension": ".py",
   "mimetype": "text/x-python",
   "name": "python",
   "nbconvert_exporter": "python",
   "pygments_lexer": "ipython3",
   "version": "3.6.5"
  }
 },
 "nbformat": 4,
 "nbformat_minor": 1
}
